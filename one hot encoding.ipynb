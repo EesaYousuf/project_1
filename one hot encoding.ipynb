{
  "cells": [
    {
      "cell_type": "code",
      "execution_count": null,
      "metadata": {
        "colab": {
          "base_uri": "https://localhost:8080/",
          "height": 1000
        },
        "id": "yLfiDs8XXQ_m",
        "outputId": "1df0b28c-3f07-4b68-8ba7-fd2e4f8ff839"
      },
      "outputs": [],
      "source": [
        "# Objective: Load, reshape, normalize, and preprocess data for a neural network model.\n",
        "# This includes converting labels to one-hot encoding.\n",
        "# Import Libraries\n",
        "import matplotlib.pyplot as plt\n",
        "import seaborn as sns\n",
        "from tensorflow.keras.datasets import fashion_mnist\n",
        "from tensorflow.keras.utils import to_categorical\n",
        "\n",
        "# Step 2: Load Data (Using Fashion MNIST)\n",
        "(x_train, y_train), (x_test, y_test) = fashion_mnist.load_data()\n",
        "class_names = ['T-shirt/top', 'Trouser', 'Pullover', 'Dress', 'Coat',\n",
        "               'Sandal', 'Shirt', 'Sneaker', 'Bag', 'Ankle boot']\n",
        "\n",
        "print(\"Original training data shape:\", x_train.shape)\n",
        "print(\"Original test data shape:\", x_test.shape)\n",
        "\n",
        "# Step 3: Visualize Multiple Sample Images\n",
        "plt.figure(figsize=(10, 5))\n",
        "for i in range(10):\n",
        "    plt.subplot(2, 5, i + 1)\n",
        "    plt.imshow(x_train[i], cmap='gray')\n",
        "    plt.title(class_names[y_train[i]])\n",
        "    plt.axis('off')\n",
        "plt.suptitle(\"Sample Images from Fashion MNIST\")\n",
        "plt.show()\n",
        "\n",
        "# Step 4: Reshape Data\n",
        "x_train = x_train.reshape((x_train.shape[0], 28, 28, 1))\n",
        "x_test = x_test.reshape((x_test.shape[0], 28, 28, 1))\n",
        "print(\"Reshaped training data shape:\", x_train.shape)\n",
        "\n",
        "# Step 5: Normalize Data\n",
        "x_train = x_train.astype('float32') / 255\n",
        "x_test = x_test.astype('float32') / 255\n",
        "\n",
        "# Step 6: Convert Labels to One-Hot Encoding\n",
        "y_train_oh = to_categorical(y_train)\n",
        "y_test_oh = to_categorical(y_test)\n",
        "print(\"One-hot encoded labels shape:\", y_train_oh.shape)\n",
        "\n",
        "# Visualize One-Hot Encoding for the first label\n",
        "print(\"Original label:\", y_train[2])\n",
        "print(\"One-hot vector:\", y_train_oh[2])\n",
        "\n",
        "plt.figure(figsize=(6, 2))\n",
        "sns.barplot(x=list(range(10)), y=y_train_oh[2], palette=\"viridis\")\n",
        "plt.title(f\"One-Hot Encoding for: {class_names[y_train[2]]}\")\n",
        "plt.xlabel(\"Class\")\n",
        "plt.ylabel(\"Activation\")\n",
        "plt.xticks(ticks=list(range(10)), labels=class_names, rotation=45)\n",
        "plt.show()"
      ]
    },
    {
      "cell_type": "code",
      "execution_count": null,
      "metadata": {
        "colab": {
          "base_uri": "https://localhost:8080/"
        },
        "id": "Qya4hechm6lg",
        "outputId": "693a4ab7-da4e-44b1-bca9-a0c77b297fa9"
      },
      "outputs": [],
      "source": [
        "from tensorflow.keras.models import Sequential\n",
        "from tensorflow.keras.layers import Conv2D, MaxPooling2D, Flatten, Dense, Dropout\n",
        "from tensorflow.keras.optimizers import Adam\n",
        "\n",
        "# Build the CNN model\n",
        "model = Sequential()\n",
        "\n",
        "# Convolutional layer\n",
        "model.add(Conv2D(32, (3, 3), activation='relu', input_shape=x_train.shape[1:]))\n",
        "model.add(MaxPooling2D(pool_size=(2, 2)))\n",
        "\n",
        "# Second convolutional layer\n",
        "model.add(Conv2D(64, (3, 3), activation='relu'))\n",
        "model.add(MaxPooling2D(pool_size=(2, 2)))\n",
        "\n",
        "# Flatten the output\n",
        "model.add(Flatten())\n",
        "\n",
        "# Fully connected layer\n",
        "model.add(Dense(64, activation='relu'))\n",
        "model.add(Dropout(0.5))  # Dropout to avoid overfitting\n",
        "\n",
        "# Output layer\n",
        "model.add(Dense(y_train_oh.shape[1], activation='softmax'))  # Number of classes\n",
        "\n",
        "# Compile the model\n",
        "model.compile(optimizer=Adam(),\n",
        "              loss='categorical_crossentropy',\n",
        "              metrics=['accuracy'])\n",
        "\n",
        "# Train the model\n",
        "model.fit(x_train, y_train_oh, epochs=10, batch_size=32, validation_data=(x_test, y_test_oh))\n",
        "\n",
        "# Evaluate the model\n",
        "loss, accuracy = model.evaluate(x_test, y_test_oh)\n",
        "print(f'Test accuracy: {accuracy * 100:.2f}%')"
      ]
    },
    {
      "cell_type": "code",
      "execution_count": null,
      "metadata": {
        "id": "GKasGQFTm-RT"
      },
      "outputs": [],
      "source": [
        "model.save('cnn_model.h5')"
      ]
    }
  ],
  "metadata": {
    "colab": {
      "provenance": []
    },
    "kernelspec": {
      "display_name": "Python 3",
      "name": "python3"
    },
    "language_info": {
      "codemirror_mode": {
        "name": "ipython",
        "version": 3
      },
      "file_extension": ".py",
      "mimetype": "text/x-python",
      "name": "python",
      "nbconvert_exporter": "python",
      "pygments_lexer": "ipython3",
      "version": "3.9.2"
    }
  },
  "nbformat": 4,
  "nbformat_minor": 0
}
